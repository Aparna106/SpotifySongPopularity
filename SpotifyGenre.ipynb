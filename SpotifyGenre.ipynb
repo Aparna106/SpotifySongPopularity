{
  "nbformat": 4,
  "nbformat_minor": 0,
  "metadata": {
    "colab": {
      "provenance": [],
      "mount_file_id": "1tDr1O_aZeo1cthfq8yvGNcEtzek4YOuE",
      "authorship_tag": "ABX9TyMVjqXZCmLgrT46eYe904pB",
      "include_colab_link": true
    },
    "kernelspec": {
      "name": "python3",
      "display_name": "Python 3"
    },
    "language_info": {
      "name": "python"
    }
  },
  "cells": [
    {
      "cell_type": "markdown",
      "metadata": {
        "id": "view-in-github",
        "colab_type": "text"
      },
      "source": [
        "<a href=\"https://colab.research.google.com/github/Aparna106/SpotifySongPopularity/blob/main/SpotifyGenre.ipynb\" target=\"_parent\"><img src=\"https://colab.research.google.com/assets/colab-badge.svg\" alt=\"Open In Colab\"/></a>"
      ]
    },
    {
      "cell_type": "code",
      "source": [
        "from google.colab import drive\n",
        "drive.mount('/content/drive')"
      ],
      "metadata": {
        "colab": {
          "base_uri": "https://localhost:8080/"
        },
        "id": "tiVDC2cA85tj",
        "outputId": "316d7114-433c-4a60-a44b-6e3c63a4fcac"
      },
      "execution_count": 54,
      "outputs": [
        {
          "output_type": "stream",
          "name": "stdout",
          "text": [
            "Drive already mounted at /content/drive; to attempt to forcibly remount, call drive.mount(\"/content/drive\", force_remount=True).\n"
          ]
        }
      ]
    },
    {
      "cell_type": "code",
      "source": [
        "# Visualizations\n",
        "import pandas as pd\n",
        "import numpy as np\n",
        "import datetime\n",
        "import plotly.express as px\n",
        "import seaborn as sns\n",
        "from matplotlib import pyplot as plt\n",
        "%matplotlib inline\n",
        "sns.set_style(\"whitegrid\")\n",
        "import matplotlib.pyplot as plt\n",
        "\n",
        "\n",
        "# For transformations and predictions\n",
        "from sklearn.preprocessing import StandardScaler\n",
        "from sklearn.model_selection import train_test_split\n",
        "\n",
        "# Models to be used, all from sklearn\n",
        "from sklearn.ensemble import RandomForestClassifier\n",
        "from sklearn.linear_model import LogisticRegression\n",
        "from sklearn.neighbors import KNeighborsClassifier\n",
        "from sklearn.tree import DecisionTreeClassifier\n",
        "\n",
        "# Transformers\n",
        "from scipy.optimize import curve_fit\n",
        "from sklearn.preprocessing import FunctionTransformer\n",
        "from sklearn.preprocessing import OneHotEncoder\n",
        "from sklearn.metrics import pairwise_distances\n",
        "from six import StringIO\n",
        "\n",
        "# For comparing metrics\n",
        "from sklearn.metrics import mean_squared_error as mse\n",
        "\n",
        "# For validation\n",
        "from sklearn.model_selection import train_test_split as split\n",
        "\n",
        "\n",
        "from matplotlib import pyplot as plt\n",
        "import seaborn as sns\n",
        "\n",
        "\n",
        "# Step 1: Data Preprocessing\n",
        "# Load the dataset\n",
        "df = pd.read_csv(\"/content/drive/MyDrive/Spotify-2000.csv\")\n",
        "\n",
        "# Returns the first 1000 rows\n",
        "df.head(1000)\n",
        "\n",
        "df.isnull().sum()\n",
        "# no nulls, allgood\n",
        "\n",
        "# print(len(df.index))\n",
        "\n",
        "df = df.iloc[0:2000]\n",
        "\n",
        "# There were some non-numeric values contained in the duration column,\n",
        "# that should have been measured in milliseconds\n",
        "df[df[\"Length (Duration)\"].str.contains(\",\")==True]\n",
        "\n",
        "df[\"Length (Duration)\"] = df[\"Length (Duration)\"].replace([\"1,412\",\"1,121\",\"1,367\",\"1,292\"],['1412','1121','1367','1292'])\n",
        "#These were corrected manually\n",
        "\n",
        "df[\"Length (Duration)\"] = df[\"Length (Duration)\"].astype(np.int64)\n",
        "#Casting all values to integers\n",
        "\n",
        "columns = ['Index', 'Title']\n",
        "# for col in columns:\n",
        "  # print(f'{col:<15}: {df[col].nunique()} unique values')\n",
        "\n",
        "df = df.drop(labels=['Index', 'Title'], axis=1)\n",
        "df.shape\n",
        "\n",
        "#No duplicates\n",
        "df.duplicated().sum()\n",
        "\n",
        "#No null values\n",
        "df.isnull().sum().sum()\n",
        "\n",
        "#As danceability increases, popularity increases according to spotify\n",
        "fig, ax = plt.subplots(1, figsize=(15, 6), sharey=True, sharex = True)\n",
        "ax_data =  df.groupby('Danceability')['Popularity'].mean().to_frame().reset_index()\n",
        "ax = sns.scatterplot(x='Danceability', y='Popularity', data=ax_data, color='blue', ax=ax)\n",
        "ax.set_title('Danceability')\n",
        "ax.set_ylabel('Mean Popularity', fontsize=12)\n",
        "plt.tight_layout()\n",
        "plt.show()\n",
        "\n",
        "#Results of initial numeric correlation, shows the features are not good indicators of target varible, popularity\n",
        "corr = np.abs(numeric_df.corr())\n",
        "series = np.abs(corr['Popularity']).sort_values(ascending=False)\n",
        "print('The most linear correlated features to POPULARITY are:')\n",
        "for i, row in enumerate(series):\n",
        "    if 0.1 <= row < 1:\n",
        "      print(f'{series.index[i]:17} --> {row: .2f} (abs)')\n",
        "\n",
        "#feature engineering, classify popular songs as 1, more unpopular songs as 0\n",
        "df['Popularity'].describe()\n",
        "df['Popularity'] = pd.qcut(df['Popularity'], q=2, labels=[0, 1])\n",
        "df[\"Popularity\"].value_counts()\n",
        "df['Popularity']\n",
        "\n",
        "#One-hot encoding to get dummies function for the non-numeric values.\n",
        "def onehot_encode(df, column, prefix):\n",
        "    df = df.copy()\n",
        "    dummies = pd.get_dummies(df[column], prefix=prefix)\n",
        "    df = pd.concat([df, dummies], axis=1)\n",
        "    df = df.drop(column, axis=1)\n",
        "    return df\n",
        "\n",
        "#one hot encoding the genre and artists\n",
        "df = onehot_encode(df, 'Artist', 'artist')\n",
        "df = onehot_encode(df, 'Top Genre', 'genre')\n",
        "df\n",
        "\n",
        "#splitting the data\n",
        "y = df.loc[:, 'Popularity']\n",
        "X = df.drop('Popularity', axis=1)\n",
        "# X = X.drop('Top Genre', axis=1)\n",
        "\n",
        "scaler = StandardScaler()\n",
        "X = scaler.fit_transform(X)\n",
        "\n",
        "#random = 369\n",
        "X_train, X_test, y_train, y_test = train_test_split(X, y, train_size=0.7, random_state=369)\n",
        "\n",
        "print(\"X_train: \",X_train.shape)\n",
        "print(\"X_test: \",X_test.shape)\n",
        "print(\"y_train: \",y_train.shape)\n",
        "print(\"y_test: \",y_test.shape)\n",
        "\n",
        "log_model = LogisticRegression()\n",
        "log_model.fit(X_train, y_train)\n",
        "log_acc = log_model.score(X_test, y_test)\n",
        "print(\"Logistic Regression Accuracy:\", log_acc)"
      ],
      "metadata": {
        "id": "i6ZM15SpMkUt",
        "colab": {
          "base_uri": "https://localhost:8080/",
          "height": 815
        },
        "outputId": "4535298e-5637-49a3-d4e5-cd19b4deef93"
      },
      "execution_count": 67,
      "outputs": [
        {
          "output_type": "display_data",
          "data": {
            "text/plain": [
              "<Figure size 1500x600 with 1 Axes>"
            ],
            "image/png": "[encoded data removed]"
          },
          "metadata": {}
        },
        {
          "output_type": "stream",
          "name": "stdout",
          "text": [
            "The most linear correlated features to POPULARITY are:\n",
            "Loudness (dB)     -->  0.17 (abs)\n",
            "Year              -->  0.16 (abs)\n",
            "Danceability      -->  0.14 (abs)\n",
            "Liveness          -->  0.11 (abs)\n",
            "Speechiness       -->  0.11 (abs)\n",
            "Energy            -->  0.10 (abs)\n",
            "X_train:  (1395, 890)\n",
            "X_test:  (599, 890)\n",
            "y_train:  (1395,)\n",
            "y_test:  (599,)\n",
            "Logistic Regression Accuracy: 0.7161936560934892\n"
          ]
        }
      ]
    }
  ]
}